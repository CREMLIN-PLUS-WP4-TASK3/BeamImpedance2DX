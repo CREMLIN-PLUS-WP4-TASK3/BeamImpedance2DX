{
 "cells": [
  {
   "cell_type": "markdown",
   "id": "1228e893-41c6-460f-86bf-99c331fcfa43",
   "metadata": {},
   "source": [
    "## Docker specific configurations\n",
    "\n",
    "Prepare python path"
   ]
  },
  {
   "cell_type": "code",
   "execution_count": 1,
   "id": "11c4bec9-6c43-4b2b-9891-afd13e642af1",
   "metadata": {},
   "outputs": [],
   "source": [
    "from sys import path\n",
    "from pathlib import Path\n",
    "path.append(str(Path(\"../../\").resolve()))"
   ]
  },
  {
   "cell_type": "markdown",
   "id": "4a26b152-ea4f-4b61-9fff-fa5460ff2392",
   "metadata": {},
   "source": [
    "## Solution preparation\n",
    "\n",
    "Import BeamImpedance2D module"
   ]
  },
  {
   "cell_type": "code",
   "execution_count": 2,
   "id": "ea2b4c38-df7e-4b19-ad8d-0b9cf0397bf8",
   "metadata": {},
   "outputs": [],
   "source": [
    "import logging\n",
    "import bi2d\n",
    "from bi2d.esum import Esum\n",
    "from bi2d.materials import vacuum, beam, steel_isotropic\n",
    "import numpy as np"
   ]
  },
  {
   "cell_type": "markdown",
   "id": "89aea782-e236-4ca5-a6de-2880b6a8148b",
   "metadata": {},
   "source": [
    "Assign material indices"
   ]
  },
  {
   "cell_type": "code",
   "execution_count": 3,
   "id": "5a156c2e-bc2c-4d0f-9142-846ea72c7ea5",
   "metadata": {},
   "outputs": [],
   "source": [
    "beam.index = 1\n",
    "vacuum.index = 2\n",
    "steel_isotropic.index = 3"
   ]
  },
  {
   "cell_type": "markdown",
   "id": "237ca5bc-e4af-439d-ac26-b4109b95952b",
   "metadata": {},
   "source": [
    "Setup mesh and materials"
   ]
  },
  {
   "cell_type": "code",
   "execution_count": 4,
   "id": "2d2cab54-9cc9-4be0-b792-dbf64773afac",
   "metadata": {},
   "outputs": [],
   "source": [
    "m = bi2d.Mesh(\"mesh.xdmf\")\n",
    "mc = bi2d.MaterialMap(m, [beam, vacuum, steel_isotropic])"
   ]
  },
  {
   "cell_type": "markdown",
   "id": "ed4c40fb-df79-457f-af0f-ad106cd71b57",
   "metadata": {},
   "source": [
    "Configure solution"
   ]
  },
  {
   "cell_type": "code",
   "execution_count": 5,
   "id": "ea6d69fc-1e72-46db-873f-353d3b6f268e",
   "metadata": {},
   "outputs": [],
   "source": [
    "solution = bi2d.Solution(mc, Hcurl_order=2, H1_order=2)"
   ]
  },
  {
   "cell_type": "markdown",
   "id": "24d299b7-8abe-4501-af96-fe9e394b3460",
   "metadata": {},
   "source": [
    "Enable info level logging"
   ]
  },
  {
   "cell_type": "code",
   "execution_count": 6,
   "id": "784c9385-45f5-4275-ab9b-45bbc5a61e79",
   "metadata": {},
   "outputs": [],
   "source": [
    "solution.logger.setLevel(logging.INFO)"
   ]
  },
  {
   "cell_type": "markdown",
   "id": "674658a6-289d-4eee-8a3e-c026c4d2e821",
   "metadata": {},
   "source": [
    "## Solve and visualize fields\n",
    "\n",
    "Solve and visualize the fields for one frequency point"
   ]
  },
  {
   "cell_type": "code",
   "execution_count": 7,
   "id": "471456d9-8a77-442b-bd27-b1686cbe0922",
   "metadata": {},
   "outputs": [
    {
     "name": "stderr",
     "output_type": "stream",
     "text": [
      "INFO:bi2d.solution:Solving for f=1.00e+05, β=0.10\n"
     ]
    },
    {
     "data": {
      "text/plain": [
       "array([[ 1.00000000e+05,  1.50687397e+02, -5.39883543e+06]])"
      ]
     },
     "execution_count": 7,
     "metadata": {},
     "output_type": "execute_result"
    }
   ],
   "source": [
    "solution.get_z([1e5], beta=0.1, source_function=bi2d.SourceFunction.DIPOLE)"
   ]
  },
  {
   "cell_type": "markdown",
   "id": "bcb2c697-7919-4049-af4b-b329d01a248a",
   "metadata": {},
   "source": [
    "`Esum` object allows us to summate rotational and irrotational fields for visualization"
   ]
  },
  {
   "cell_type": "code",
   "execution_count": 8,
   "id": "3b601b97-5a3d-438c-ba65-7727ab60a9d2",
   "metadata": {},
   "outputs": [],
   "source": [
    "esum = Esum(solution)\n",
    "esum.solve()\n",
    "solution.save(\"solution.xdmf\")"
   ]
  },
  {
   "cell_type": "markdown",
   "id": "23a5c45c-c314-4975-bebb-bfbd382f0ee8",
   "metadata": {},
   "source": [
    "Use `paraview solution.xdmf` command to visualize solution from desktop. Note, that `paraview` needs both `solution.xdmf` and `solution.h5` files."
   ]
  },
  {
   "cell_type": "markdown",
   "id": "eaf2b92e-f492-4f7a-a184-eb2cf3691999",
   "metadata": {},
   "source": [
    "## Calculate impedance\n",
    "\n",
    "Calculate impedance in frequency range and save the results"
   ]
  },
  {
   "cell_type": "code",
   "execution_count": 9,
   "id": "7ce7f961-c720-4282-ad66-f03f896da634",
   "metadata": {},
   "outputs": [
    {
     "name": "stderr",
     "output_type": "stream",
     "text": [
      "INFO:bi2d.solution:Solving for f=1.00e+05, β=0.10\n",
      "INFO:bi2d.solution:Solving for f=1.74e+05, β=0.10\n",
      "INFO:bi2d.solution:Solving for f=3.04e+05, β=0.10\n",
      "INFO:bi2d.solution:Solving for f=5.30e+05, β=0.10\n",
      "INFO:bi2d.solution:Solving for f=9.24e+05, β=0.10\n",
      "INFO:bi2d.solution:Solving for f=1.61e+06, β=0.10\n",
      "INFO:bi2d.solution:Solving for f=2.81e+06, β=0.10\n",
      "INFO:bi2d.solution:Solving for f=4.89e+06, β=0.10\n",
      "INFO:bi2d.solution:Solving for f=8.53e+06, β=0.10\n",
      "INFO:bi2d.solution:Solving for f=1.49e+07, β=0.10\n",
      "INFO:bi2d.solution:Solving for f=2.59e+07, β=0.10\n",
      "INFO:bi2d.solution:Solving for f=4.52e+07, β=0.10\n",
      "INFO:bi2d.solution:Solving for f=7.88e+07, β=0.10\n",
      "INFO:bi2d.solution:Solving for f=1.37e+08, β=0.10\n",
      "INFO:bi2d.solution:Solving for f=2.40e+08, β=0.10\n",
      "INFO:bi2d.solution:Solving for f=4.18e+08, β=0.10\n",
      "INFO:bi2d.solution:Solving for f=7.28e+08, β=0.10\n",
      "INFO:bi2d.solution:Solving for f=1.27e+09, β=0.10\n",
      "INFO:bi2d.solution:Solving for f=2.21e+09, β=0.10\n",
      "INFO:bi2d.solution:Solving for f=3.86e+09, β=0.10\n",
      "INFO:bi2d.solution:Solving for f=6.72e+09, β=0.10\n",
      "INFO:bi2d.solution:Solving for f=1.17e+10, β=0.10\n",
      "INFO:bi2d.solution:Solving for f=2.04e+10, β=0.10\n",
      "INFO:bi2d.solution:Solving for f=3.56e+10, β=0.10\n",
      "INFO:bi2d.solution:Solving for f=6.21e+10, β=0.10\n",
      "INFO:bi2d.solution:Solving for f=1.08e+11, β=0.10\n",
      "INFO:bi2d.solution:Solving for f=1.89e+11, β=0.10\n",
      "INFO:bi2d.solution:Solving for f=3.29e+11, β=0.10\n",
      "INFO:bi2d.solution:Solving for f=5.74e+11, β=0.10\n",
      "INFO:bi2d.solution:Solving for f=1.00e+12, β=0.10\n"
     ]
    }
   ],
   "source": [
    "data01 = solution.get_z(np.logspace(5, 12, num=30), beta=0.1, source_function=bi2d.SourceFunction.DIPOLE)"
   ]
  },
  {
   "cell_type": "code",
   "execution_count": 10,
   "id": "8e96e1a3-d1ee-4126-a348-87252832c44e",
   "metadata": {},
   "outputs": [
    {
     "name": "stderr",
     "output_type": "stream",
     "text": [
      "INFO:bi2d.solution:Solving for f=1.00e+05, β=0.90\n",
      "INFO:bi2d.solution:Solving for f=1.74e+05, β=0.90\n",
      "INFO:bi2d.solution:Solving for f=3.04e+05, β=0.90\n",
      "INFO:bi2d.solution:Solving for f=5.30e+05, β=0.90\n",
      "INFO:bi2d.solution:Solving for f=9.24e+05, β=0.90\n",
      "INFO:bi2d.solution:Solving for f=1.61e+06, β=0.90\n",
      "INFO:bi2d.solution:Solving for f=2.81e+06, β=0.90\n",
      "INFO:bi2d.solution:Solving for f=4.89e+06, β=0.90\n",
      "INFO:bi2d.solution:Solving for f=8.53e+06, β=0.90\n",
      "INFO:bi2d.solution:Solving for f=1.49e+07, β=0.90\n",
      "INFO:bi2d.solution:Solving for f=2.59e+07, β=0.90\n",
      "INFO:bi2d.solution:Solving for f=4.52e+07, β=0.90\n",
      "INFO:bi2d.solution:Solving for f=7.88e+07, β=0.90\n",
      "INFO:bi2d.solution:Solving for f=1.37e+08, β=0.90\n",
      "INFO:bi2d.solution:Solving for f=2.40e+08, β=0.90\n",
      "INFO:bi2d.solution:Solving for f=4.18e+08, β=0.90\n",
      "INFO:bi2d.solution:Solving for f=7.28e+08, β=0.90\n",
      "INFO:bi2d.solution:Solving for f=1.27e+09, β=0.90\n",
      "INFO:bi2d.solution:Solving for f=2.21e+09, β=0.90\n",
      "INFO:bi2d.solution:Solving for f=3.86e+09, β=0.90\n",
      "INFO:bi2d.solution:Solving for f=6.72e+09, β=0.90\n",
      "INFO:bi2d.solution:Solving for f=1.17e+10, β=0.90\n",
      "INFO:bi2d.solution:Solving for f=2.04e+10, β=0.90\n",
      "INFO:bi2d.solution:Solving for f=3.56e+10, β=0.90\n",
      "INFO:bi2d.solution:Solving for f=6.21e+10, β=0.90\n",
      "INFO:bi2d.solution:Solving for f=1.08e+11, β=0.90\n",
      "INFO:bi2d.solution:Solving for f=1.89e+11, β=0.90\n",
      "INFO:bi2d.solution:Solving for f=3.29e+11, β=0.90\n",
      "INFO:bi2d.solution:Solving for f=5.74e+11, β=0.90\n",
      "INFO:bi2d.solution:Solving for f=1.00e+12, β=0.90\n"
     ]
    }
   ],
   "source": [
    "data09 = solution.get_z(np.logspace(5, 12, num=30), beta=0.9, source_function=bi2d.SourceFunction.DIPOLE)"
   ]
  },
  {
   "cell_type": "markdown",
   "id": "21933a33-ecc5-462e-b961-bbf3495642f6",
   "metadata": {},
   "source": [
    "## Plot impedances"
   ]
  },
  {
   "cell_type": "code",
   "execution_count": 11,
   "id": "c429689b-daaf-4703-9ff5-cb74fdb8cf2d",
   "metadata": {},
   "outputs": [],
   "source": [
    "import pylab\n",
    "pylab.rcParams['figure.figsize'] = [12, 8]"
   ]
  },
  {
   "cell_type": "code",
   "execution_count": 12,
   "id": "49a776e4-44c3-4636-9ae5-5e667b702d76",
   "metadata": {},
   "outputs": [
    {
     "data": {
      "image/png": "[encoded data removed]",
      "text/plain": [
       "<Figure size 864x576 with 1 Axes>"
      ]
     },
     "metadata": {
      "needs_background": "light"
     },
     "output_type": "display_data"
    }
   ],
   "source": [
    "pylab.plot(data01[:,0], data01[:,1])\n",
    "pylab.plot(data09[:,0], data09[:,1])\n",
    "pylab.yscale(\"log\")\n",
    "pylab.xscale(\"log\")\n",
    "pylab.xlabel(\"f\")\n",
    "pylab.ylabel(r\"$\\Re{z}$\")\n",
    "pylab.grid()\n",
    "pylab.legend([r\"$\\beta$=0.1\", r\"$\\beta$=0.9\"])\n",
    "pylab.show()"
   ]
  },
  {
   "cell_type": "code",
   "execution_count": 13,
   "id": "5adddec5-efd7-48d7-bd2c-56f4da651d8e",
   "metadata": {},
   "outputs": [
    {
     "data": {
      "image/png": "[encoded data removed]",
      "text/plain": [
       "<Figure size 864x576 with 1 Axes>"
      ]
     },
     "metadata": {
      "needs_background": "light"
     },
     "output_type": "display_data"
    }
   ],
   "source": [
    "pylab.plot(data01[:,0], -data01[:,2])\n",
    "pylab.plot(data09[:,0], -data09[:,2])\n",
    "pylab.yscale(\"log\")\n",
    "pylab.xscale(\"log\")\n",
    "pylab.ylim((1e4, 1e7))\n",
    "pylab.xlabel(\"f\")\n",
    "pylab.ylabel(r\"-$\\Im{z}$\")\n",
    "pylab.grid()\n",
    "pylab.legend([r\"$\\beta$=0.1\", r\"$\\beta$=0.9\"])\n",
    "pylab.show()"
   ]
  }
 ],
 "metadata": {
  "kernelspec": {
   "display_name": "Python 3 (ipykernel)",
   "language": "python",
   "name": "python3"
  },
  "language_info": {
   "codemirror_mode": {
    "name": "ipython",
    "version": 3
   },
   "file_extension": ".py",
   "mimetype": "text/x-python",
   "name": "python",
   "nbconvert_exporter": "python",
   "pygments_lexer": "ipython3",
   "version": "3.9.5"
  }
 },
 "nbformat": 4,
 "nbformat_minor": 5
}
