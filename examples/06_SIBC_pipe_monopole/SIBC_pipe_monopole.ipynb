{
 "cells": [
  {
   "cell_type": "markdown",
   "id": "1228e893-41c6-460f-86bf-99c331fcfa43",
   "metadata": {},
   "source": [
    "## Docker specific configurations\n",
    "\n",
    "Prepare python path"
   ]
  },
  {
   "cell_type": "code",
   "execution_count": 1,
   "id": "11c4bec9-6c43-4b2b-9891-afd13e642af1",
   "metadata": {},
   "outputs": [],
   "source": [
    "from sys import path\n",
    "from pathlib import Path\n",
    "path.append(str(Path(\"../../\").resolve()))"
   ]
  },
  {
   "cell_type": "markdown",
   "id": "6b0c0cc3-8864-4742-9ffe-557831633906",
   "metadata": {},
   "source": [
    "## Prepare mesh\n",
    "\n",
    "Generate mesh outside of the docker using the following commands:\n",
    "```bash\n",
    "gmsh metal.geo -2\n",
    "../../tools/convert_msh.py metal.msh metal.xdmf\n",
    "gmsh sibc.geo -2\n",
    "../../tools/convert_msh.py sibc.msh sibc.xdmf\n",
    "```"
   ]
  },
  {
   "cell_type": "markdown",
   "id": "4a26b152-ea4f-4b61-9fff-fa5460ff2392",
   "metadata": {},
   "source": [
    "## Solution preparation\n",
    "\n",
    "Import BeamImpedance2D module"
   ]
  },
  {
   "cell_type": "code",
   "execution_count": 2,
   "id": "ea2b4c38-df7e-4b19-ad8d-0b9cf0397bf8",
   "metadata": {},
   "outputs": [],
   "source": [
    "import logging\n",
    "import bi2d\n",
    "from bi2d.esum import Esum\n",
    "from bi2d.materials import vacuum, beam, steel\n",
    "import numpy as np"
   ]
  },
  {
   "cell_type": "markdown",
   "id": "89aea782-e236-4ca5-a6de-2880b6a8148b",
   "metadata": {},
   "source": [
    "Assign material indices. When setting index `-1` to SIBC material, boundary will be applied to all boundaries"
   ]
  },
  {
   "cell_type": "code",
   "execution_count": 3,
   "id": "5a156c2e-bc2c-4d0f-9142-846ea72c7ea5",
   "metadata": {},
   "outputs": [],
   "source": [
    "beam.index = 1\n",
    "vacuum.index = 2\n",
    "steel.index = 3\n",
    "steel_sibc = steel.copy()\n",
    "steel_sibc.index = -1"
   ]
  },
  {
   "cell_type": "markdown",
   "id": "237ca5bc-e4af-439d-ac26-b4109b95952b",
   "metadata": {},
   "source": [
    "Setup mesh and materials"
   ]
  },
  {
   "cell_type": "code",
   "execution_count": 4,
   "id": "2d2cab54-9cc9-4be0-b792-dbf64773afac",
   "metadata": {},
   "outputs": [],
   "source": [
    "m_metal = bi2d.Mesh(\"metal.xdmf\")\n",
    "m_sibc = bi2d.Mesh(\"sibc.xdmf\")\n",
    "mc_metal = bi2d.MaterialMap(m_metal, [beam, vacuum, steel])\n",
    "mc_sibc = bi2d.MaterialMap(m_sibc, [beam, vacuum])"
   ]
  },
  {
   "cell_type": "markdown",
   "id": "ed4c40fb-df79-457f-af0f-ad106cd71b57",
   "metadata": {},
   "source": [
    "Configure solution"
   ]
  },
  {
   "cell_type": "code",
   "execution_count": 5,
   "id": "ea6d69fc-1e72-46db-873f-353d3b6f268e",
   "metadata": {},
   "outputs": [],
   "source": [
    "solution_metal = bi2d.Solution(mc_metal, Hcurl_order=2, H1_order=2)\n",
    "solution_sibc = bi2d.Solution(mc_sibc, Hcurl_order=2, H1_order=2)"
   ]
  },
  {
   "cell_type": "markdown",
   "id": "24d299b7-8abe-4501-af96-fe9e394b3460",
   "metadata": {},
   "source": [
    "Enable info level logging"
   ]
  },
  {
   "cell_type": "code",
   "execution_count": 6,
   "id": "784c9385-45f5-4275-ab9b-45bbc5a61e79",
   "metadata": {},
   "outputs": [],
   "source": [
    "solution_metal.logger.setLevel(logging.INFO)\n",
    "solution_sibc.logger.setLevel(logging.INFO)"
   ]
  },
  {
   "cell_type": "markdown",
   "id": "eaf2b92e-f492-4f7a-a184-eb2cf3691999",
   "metadata": {},
   "source": [
    "## Calculate impedance\n",
    "\n",
    "Calculate impedance in frequency range and save the results"
   ]
  },
  {
   "cell_type": "code",
   "execution_count": 7,
   "id": "7ce7f961-c720-4282-ad66-f03f896da634",
   "metadata": {},
   "outputs": [
    {
     "name": "stderr",
     "output_type": "stream",
     "text": [
      "INFO:bi2d.solution:Solving for f=1.00e+06, β=1.00\n",
      "INFO:bi2d.solution:Solving for f=1.61e+06, β=1.00\n",
      "INFO:bi2d.solution:Solving for f=2.59e+06, β=1.00\n",
      "INFO:bi2d.solution:Solving for f=4.18e+06, β=1.00\n",
      "INFO:bi2d.solution:Solving for f=6.72e+06, β=1.00\n",
      "INFO:bi2d.solution:Solving for f=1.08e+07, β=1.00\n",
      "INFO:bi2d.solution:Solving for f=1.74e+07, β=1.00\n",
      "INFO:bi2d.solution:Solving for f=2.81e+07, β=1.00\n",
      "INFO:bi2d.solution:Solving for f=4.52e+07, β=1.00\n",
      "INFO:bi2d.solution:Solving for f=7.28e+07, β=1.00\n",
      "INFO:bi2d.solution:Solving for f=1.17e+08, β=1.00\n",
      "INFO:bi2d.solution:Solving for f=1.89e+08, β=1.00\n",
      "INFO:bi2d.solution:Solving for f=3.04e+08, β=1.00\n",
      "INFO:bi2d.solution:Solving for f=4.89e+08, β=1.00\n",
      "INFO:bi2d.solution:Solving for f=7.88e+08, β=1.00\n",
      "INFO:bi2d.solution:Solving for f=1.27e+09, β=1.00\n",
      "INFO:bi2d.solution:Solving for f=2.04e+09, β=1.00\n",
      "INFO:bi2d.solution:Solving for f=3.29e+09, β=1.00\n",
      "INFO:bi2d.solution:Solving for f=5.30e+09, β=1.00\n",
      "INFO:bi2d.solution:Solving for f=8.53e+09, β=1.00\n",
      "INFO:bi2d.solution:Solving for f=1.37e+10, β=1.00\n",
      "INFO:bi2d.solution:Solving for f=2.21e+10, β=1.00\n",
      "INFO:bi2d.solution:Solving for f=3.56e+10, β=1.00\n",
      "INFO:bi2d.solution:Solving for f=5.74e+10, β=1.00\n",
      "INFO:bi2d.solution:Solving for f=9.24e+10, β=1.00\n",
      "INFO:bi2d.solution:Solving for f=1.49e+11, β=1.00\n",
      "INFO:bi2d.solution:Solving for f=2.40e+11, β=1.00\n",
      "INFO:bi2d.solution:Solving for f=3.86e+11, β=1.00\n",
      "INFO:bi2d.solution:Solving for f=6.21e+11, β=1.00\n",
      "INFO:bi2d.solution:Solving for f=1.00e+12, β=1.00\n"
     ]
    },
    {
     "name": "stdout",
     "output_type": "stream",
     "text": [
      "CPU times: user 15min 31s, sys: 27.4 s, total: 15min 58s\n",
      "Wall time: 15min 59s\n"
     ]
    }
   ],
   "source": [
    "%%time\n",
    "\n",
    "data_metal = solution_metal.get_z(np.logspace(6, 12, num=30), beta=0.999, source_function=bi2d.SourceFunction.MONOPOLE)"
   ]
  },
  {
   "cell_type": "code",
   "execution_count": 8,
   "id": "259637da-5802-4274-8770-dcbb9aeddac6",
   "metadata": {},
   "outputs": [
    {
     "name": "stderr",
     "output_type": "stream",
     "text": [
      "INFO:bi2d.solution:Solving for f=1.00e+06, β=1.00\n",
      "INFO:bi2d.solution:Solving for f=1.61e+06, β=1.00\n",
      "INFO:bi2d.solution:Solving for f=2.59e+06, β=1.00\n",
      "INFO:bi2d.solution:Solving for f=4.18e+06, β=1.00\n",
      "INFO:bi2d.solution:Solving for f=6.72e+06, β=1.00\n",
      "INFO:bi2d.solution:Solving for f=1.08e+07, β=1.00\n",
      "INFO:bi2d.solution:Solving for f=1.74e+07, β=1.00\n",
      "INFO:bi2d.solution:Solving for f=2.81e+07, β=1.00\n",
      "INFO:bi2d.solution:Solving for f=4.52e+07, β=1.00\n",
      "INFO:bi2d.solution:Solving for f=7.28e+07, β=1.00\n",
      "INFO:bi2d.solution:Solving for f=1.17e+08, β=1.00\n",
      "INFO:bi2d.solution:Solving for f=1.89e+08, β=1.00\n",
      "INFO:bi2d.solution:Solving for f=3.04e+08, β=1.00\n",
      "INFO:bi2d.solution:Solving for f=4.89e+08, β=1.00\n",
      "INFO:bi2d.solution:Solving for f=7.88e+08, β=1.00\n",
      "INFO:bi2d.solution:Solving for f=1.27e+09, β=1.00\n",
      "INFO:bi2d.solution:Solving for f=2.04e+09, β=1.00\n",
      "INFO:bi2d.solution:Solving for f=3.29e+09, β=1.00\n",
      "INFO:bi2d.solution:Solving for f=5.30e+09, β=1.00\n",
      "INFO:bi2d.solution:Solving for f=8.53e+09, β=1.00\n",
      "INFO:bi2d.solution:Solving for f=1.37e+10, β=1.00\n",
      "INFO:bi2d.solution:Solving for f=2.21e+10, β=1.00\n",
      "INFO:bi2d.solution:Solving for f=3.56e+10, β=1.00\n",
      "INFO:bi2d.solution:Solving for f=5.74e+10, β=1.00\n",
      "INFO:bi2d.solution:Solving for f=9.24e+10, β=1.00\n",
      "INFO:bi2d.solution:Solving for f=1.49e+11, β=1.00\n",
      "INFO:bi2d.solution:Solving for f=2.40e+11, β=1.00\n",
      "INFO:bi2d.solution:Solving for f=3.86e+11, β=1.00\n",
      "INFO:bi2d.solution:Solving for f=6.21e+11, β=1.00\n",
      "INFO:bi2d.solution:Solving for f=1.00e+12, β=1.00\n"
     ]
    },
    {
     "name": "stdout",
     "output_type": "stream",
     "text": [
      "CPU times: user 3min 16s, sys: 7.11 s, total: 3min 23s\n",
      "Wall time: 3min 24s\n"
     ]
    }
   ],
   "source": [
    "%%time\n",
    "\n",
    "data_sibc = solution_sibc.get_z(np.logspace(6, 12, num=30), beta=0.999, source_function=bi2d.SourceFunction.MONOPOLE, sibc=[steel_sibc])"
   ]
  },
  {
   "cell_type": "markdown",
   "id": "e058c413-d97b-4b6e-b375-c74dbb183d45",
   "metadata": {},
   "source": [
    "Notice significant time difference between two calculations. "
   ]
  },
  {
   "cell_type": "markdown",
   "id": "21933a33-ecc5-462e-b961-bbf3495642f6",
   "metadata": {},
   "source": [
    "## Plot impedances"
   ]
  },
  {
   "cell_type": "code",
   "execution_count": 9,
   "id": "c429689b-daaf-4703-9ff5-cb74fdb8cf2d",
   "metadata": {},
   "outputs": [],
   "source": [
    "import pylab\n",
    "pylab.rcParams['figure.figsize'] = [12, 8]"
   ]
  },
  {
   "cell_type": "code",
   "execution_count": 10,
   "id": "5adddec5-efd7-48d7-bd2c-56f4da651d8e",
   "metadata": {},
   "outputs": [
    {
     "data": {
      "image/png": "[encoded data removed]",
      "text/plain": [
       "<Figure size 864x576 with 1 Axes>"
      ]
     },
     "metadata": {
      "needs_background": "light"
     },
     "output_type": "display_data"
    }
   ],
   "source": [
    "pylab.plot(data_metal[:,0], data_metal[:,1])\n",
    "pylab.plot(data_sibc[:,0], data_sibc[:,1])\n",
    "pylab.yscale(\"log\")\n",
    "pylab.xscale(\"log\")\n",
    "pylab.xlabel(\"f\")\n",
    "pylab.ylabel(r\"$\\Re{z}$\")\n",
    "pylab.grid()\n",
    "pylab.legend([r\"metal\", r\"SIBC\"])\n",
    "pylab.show()"
   ]
  },
  {
   "cell_type": "code",
   "execution_count": 11,
   "id": "f78d19aa-44ac-46ed-a3ff-8f3d7afa7d56",
   "metadata": {},
   "outputs": [
    {
     "data": {
      "image/png": "[encoded data removed]",
      "text/plain": [
       "<Figure size 864x576 with 1 Axes>"
      ]
     },
     "metadata": {
      "needs_background": "light"
     },
     "output_type": "display_data"
    }
   ],
   "source": [
    "pylab.plot(data_metal[:,0], data_metal[:,2])\n",
    "pylab.plot(data_sibc[:,0], data_sibc[:,2])\n",
    "pylab.xscale(\"log\")\n",
    "pylab.xlabel(\"f\")\n",
    "pylab.ylabel(r\"$\\Im{z}$\")\n",
    "pylab.grid()\n",
    "pylab.legend([r\"metal\", r\"SIBC\"])\n",
    "pylab.show()"
   ]
  }
 ],
 "metadata": {
  "kernelspec": {
   "display_name": "Python 3 (DOLFINx complex)",
   "language": "python",
   "name": "python3-complex"
  },
  "language_info": {
   "codemirror_mode": {
    "name": "ipython",
    "version": 3
   },
   "file_extension": ".py",
   "mimetype": "text/x-python",
   "name": "python",
   "nbconvert_exporter": "python",
   "pygments_lexer": "ipython3",
   "version": "3.9.5"
  }
 },
 "nbformat": 4,
 "nbformat_minor": 5
}
